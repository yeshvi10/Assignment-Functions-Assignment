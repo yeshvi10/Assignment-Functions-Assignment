{
 "cells": [
  {
   "cell_type": "code",
   "execution_count": 1,
   "id": "f3ba08de-1261-46ea-9be4-8b67005b1270",
   "metadata": {},
   "outputs": [],
   "source": [
    "# Theory Question:-"
   ]
  },
  {
   "cell_type": "code",
   "execution_count": 2,
   "id": "4d7e8461-ddd6-4d05-ae90-426fc6918a78",
   "metadata": {},
   "outputs": [],
   "source": [
    "# Question_1:-  What is the difference between a function and a method in Python?"
   ]
  },
  {
   "cell_type": "code",
   "execution_count": 3,
   "id": "afbbce99-b3ee-40b0-bdf3-7c7c80dfda9f",
   "metadata": {},
   "outputs": [],
   "source": [
    "# Methods:-\n",
    "\n",
    "# Both functions and methods are used to perform a specific task, but they have some key differences, primarily based on their context and usage\n",
    "# A function is a block of code that performs a specific task and can be called independently. Functions can be defined at the module level or inside another function, and they do not depend on any object. Functions can take arguments and return values.\n"
   ]
  },
  {
   "cell_type": "code",
   "execution_count": 4,
   "id": "71026a8e-fbf9-460b-93ce-c944ec5d044a",
   "metadata": {},
   "outputs": [
    {
     "name": "stdout",
     "output_type": "stream",
     "text": [
      "Hello, Alice!\n"
     ]
    }
   ],
   "source": [
    "# Example:-\n",
    "def greet(name):\n",
    "    return f\"Hello, {name}!\"\n",
    "\n",
    "print(greet(\"Alice\"))  # Output: Hello, Alice!\n"
   ]
  },
  {
   "cell_type": "code",
   "execution_count": 5,
   "id": "47002467-7706-4f61-b219-d90f91b477a3",
   "metadata": {},
   "outputs": [],
   "source": [
    "# Methods:-\n",
    "\n",
    "# A method is similar to a function, but it is associated with an object and is defined within a class. Methods are called on objects (instances of classes) and can access and modify the object's attributes. Methods are defined like functions but are part of the class's namespace.\n",
    "#  There are two main types of methods:\n",
    "\n",
    "# 1.Instance Methods:-The most common type, which operates on instances of the class and can access and modify the instance's attributes.\n",
    "\n",
    "# 2.Class Methods: Operate on the class itself rather than instances. They are defined using the @classmethod decorator and take the class (cls) as their first argument.\n",
    "\n",
    "# 3.static Methods: Do not modify class state or instance state. They are defined using the @staticmethod decorator and do not take self or cls as their first argument."
   ]
  },
  {
   "cell_type": "code",
   "execution_count": 6,
   "id": "c84dc36f-0aa9-47df-94c7-08c4cb1df0c3",
   "metadata": {},
   "outputs": [
    {
     "name": "stdout",
     "output_type": "stream",
     "text": [
      "Hello, Bob!\n"
     ]
    }
   ],
   "source": [
    "# Example:-\n",
    "class Person:\n",
    "    def __init__(self, name):\n",
    "        self.name = name\n",
    "\n",
    "    def greet(self):\n",
    "        return f\"Hello, {self.name}!\"\n",
    "\n",
    "# Creating an instance of the Person class\n",
    "person = Person(\"Bob\")\n",
    "print(person.greet())  # Output: Hello, Bob!\n"
   ]
  },
  {
   "cell_type": "code",
   "execution_count": 7,
   "id": "43c30dd8-eb00-4713-9467-3492353c8792",
   "metadata": {},
   "outputs": [],
   "source": [
    "# Question_2:-  Explain the concept of function arguments and parameters in Python."
   ]
  },
  {
   "cell_type": "code",
   "execution_count": 1,
   "id": "a43abbcd-61d4-46f1-9f4e-d3090332a468",
   "metadata": {},
   "outputs": [],
   "source": [
    "# function arguments and parameters are related concepts that play a crucial role in how functions receive and process data.\n",
    "\n",
    "# 1.Argument:-Arguments are the actual values passed to the function when it is called. These values are assigned to the corresponding parameters in the function definition.\n",
    "\n",
    "# 2.Parameter:-Parameters are the variables listed inside the parentheses in the function definition. They act as placeholders for the values that will be passed to the function when it is called. Parameters are used to define what kind of data the function expects to receive.\n",
    "\n",
    "# Types of Parameters/Arguments:\n",
    "\n",
    "# 1.Positional Arguments: Arguments are assigned to parameters in the order they are provided.\n",
    "\n",
    "# 2.Keyword Arguments: Arguments are passed by explicitly stating the parameter name and assigning a value, regardless of their position.\n",
    "\n",
    "# 3.Default Arguments: Parameters can have default values, which are used if no corresponding argument is provided during the function call.\n",
    "\n",
    "# 4.Variable-length Arguments: Sometimes, the number of arguments a function can accept is not known in advance. Python provides two special symbols for this:\n",
    "# *args: A tuple that captures additional positional arguments.\n",
    "# **kwargs: A dictionary that captures additional keyword arguments."
   ]
  },
  {
   "cell_type": "code",
   "execution_count": 2,
   "id": "4bbf2150-45a1-4784-95e7-5dedbed2872d",
   "metadata": {},
   "outputs": [
    {
     "name": "stdout",
     "output_type": "stream",
     "text": [
      "8\n"
     ]
    }
   ],
   "source": [
    "# Positional Arguments Example:-\n",
    "def add(a, b):\n",
    "    return a + b\n",
    "\n",
    "# Calling the function with positional arguments\n",
    "result = add(3, 5)\n",
    "print(result)  # Output: 8\n"
   ]
  },
  {
   "cell_type": "code",
   "execution_count": 3,
   "id": "4d6daf91-cfd6-4d24-9383-0eee821b35cd",
   "metadata": {},
   "outputs": [
    {
     "name": "stdout",
     "output_type": "stream",
     "text": [
      "Hello, Alice!\n"
     ]
    }
   ],
   "source": [
    "# Keyword Arguments Example:-\n",
    "def greet(name, greeting):\n",
    "    return f\"{greeting}, {name}!\"\n",
    "\n",
    "# Calling the function with keyword arguments\n",
    "message = greet(name=\"Alice\", greeting=\"Hello\")\n",
    "print(message)  # Output: Hello, Alice!\n"
   ]
  },
  {
   "cell_type": "code",
   "execution_count": 4,
   "id": "42b999e9-87f4-4f55-b63e-9c8a58660350",
   "metadata": {},
   "outputs": [
    {
     "name": "stdout",
     "output_type": "stream",
     "text": [
      "Hello, Bob!\n",
      "Hi, Bob!\n"
     ]
    }
   ],
   "source": [
    "# Default Arguments Example:-\n",
    "def greet(name, greeting=\"Hello\"):\n",
    "    return f\"{greeting}, {name}!\"\n",
    "\n",
    "# Using the default argument for greeting\n",
    "message = greet(\"Bob\")\n",
    "print(message)  # Output: Hello, Bob!\n",
    "\n",
    "# Overriding the default argument\n",
    "message = greet(\"Bob\", \"Hi\")\n",
    "print(message)  # Output: Hi, Bob!\n"
   ]
  },
  {
   "cell_type": "code",
   "execution_count": 6,
   "id": "569bdd0f-6aaa-472b-8ed9-0165454c8841",
   "metadata": {},
   "outputs": [
    {
     "name": "stdout",
     "output_type": "stream",
     "text": [
      "1\n",
      "2\n",
      "3\n",
      "4\n",
      "name: Alice\n",
      "age: 30\n",
      "city: New York\n"
     ]
    }
   ],
   "source": [
    "# *args and **kwargs:-\n",
    "def print_numbers(*args):\n",
    "    for number in args:\n",
    "        print(number)\n",
    "\n",
    "# Passing a variable number of arguments\n",
    "print_numbers(1, 2, 3, 4)  # Output: 1 2 3 4\n",
    "\n",
    "def print_details(**kwargs):\n",
    "    for key, value in kwargs.items():\n",
    "        print(f\"{key}: {value}\")\n",
    "\n",
    "# Passing keyword arguments\n",
    "print_details(name=\"Alice\", age=30, city=\"New York\")\n",
    "# Output:\n",
    "# name: Alice\n",
    "# age: 30\n",
    "# city: New York\n"
   ]
  },
  {
   "cell_type": "code",
   "execution_count": 7,
   "id": "10e5b689-7184-4ae1-8539-29bbd9ec3771",
   "metadata": {},
   "outputs": [],
   "source": [
    "# Question_3:- What are the different ways to define and call a function in Python?"
   ]
  },
  {
   "cell_type": "code",
   "execution_count": 14,
   "id": "a6778e50-f4b5-407d-a939-0b89b6b5a34c",
   "metadata": {},
   "outputs": [
    {
     "name": "stdout",
     "output_type": "stream",
     "text": [
      "8\n",
      "8\n",
      "Hello, Alice!\n",
      "Hi, Bob!\n",
      "I have a dog named Rex.\n",
      "1\n",
      "2\n",
      "3\n",
      "4\n",
      "name: Alice\n",
      "age: 30\n",
      "city: New York\n",
      "120\n"
     ]
    }
   ],
   "source": [
    "# functions can be defined and called in various ways, each serving different use cases. Below are the different ways to define and call functions, along with examples:\n",
    "\n",
    "# 1. Standard Function Definition and Call :-This is the most common way to define a function using the def keyword, and then call it by its name.\n",
    " \n",
    "# Defination  \n",
    "def add(a, b):\n",
    "    return a + b\n",
    "# call\n",
    "result = add(3, 5)\n",
    "print(result)  # Output: 8\n",
    "\n",
    "# 2.Lambda Functions (Anonymous Functions):- Lambda functions are single-expression functions that do not require a name. They are often used for short, throwaway functions.\n",
    "\n",
    "# Defination:-\n",
    "add = lambda a, b: a + b\n",
    "# call\n",
    "result = add(3, 5)\n",
    "print(result)  # Output: 8\n",
    "\n",
    "# 3.Default Arguments:- Functions can have default values for some parameters. If the caller does not provide those arguments, the default values are used\n",
    "\n",
    "# Defination:-\n",
    "def greet(name, greeting=\"Hello\"):\n",
    "    return f\"{greeting}, {name}!\"\n",
    "# call:-\n",
    "message1 = greet(\"Alice\")\n",
    "print(message1)  # Output: Hello, Alice!\n",
    "\n",
    "message2 = greet(\"Bob\", \"Hi\")\n",
    "print(message2)  # Output: Hi, Bob!\n",
    "\n",
    "# 4.Keyword Arguments :-Arguments can be passed to functions using the parameter names, allowing for more readable code and flexibility in argument order.\n",
    "\n",
    "# defination:-\n",
    "def describe_pet(animal_type, pet_name):\n",
    "    return f\"I have a {animal_type} named {pet_name}.\"\n",
    "# call:-\n",
    "description = describe_pet(animal_type=\"dog\", pet_name=\"Rex\")\n",
    "print(description)  # Output: I have a dog named Rex.\n",
    "\n",
    "# 5.Variable-Length Arguments:- Python allows you to define functions that can accept a variable number of arguments using *args for positional arguments and **kwargs for keyword arguments.\n",
    "\n",
    "# defination:-\n",
    "def print_numbers(*args):\n",
    "    for number in args:\n",
    "        print(number)\n",
    "\n",
    "def print_details(**kwargs):\n",
    "    for key, value in kwargs.items():\n",
    "        print(f\"{key}: {value}\")\n",
    "# call\n",
    "print_numbers(1, 2, 3, 4)  # Output: 1 2 3 4\n",
    "\n",
    "print_details(name=\"Alice\", age=30, city=\"New York\")\n",
    "# Output:\n",
    "# name: Alice\n",
    "# age: 30\n",
    "# city: New York\n",
    "\n",
    "# 6.Recursive Functions:- A function can call itself, which is known as recursion. This is useful for tasks that can be broken down into similar sub-tasks.\n",
    "\n",
    "# defination:-\n",
    "def factorial(n):\n",
    "    if n == 0:\n",
    "        return 1\n",
    "    else:\n",
    "        return n * factorial(n - 1)\n",
    "# call\n",
    "result = factorial(5)\n",
    "print(result)  # Output: 120\n",
    "\n",
    "\n"
   ]
  },
  {
   "cell_type": "code",
   "execution_count": 15,
   "id": "88c5ab04-50e4-441e-827e-f3c07d446e94",
   "metadata": {},
   "outputs": [],
   "source": [
    "# Question_4:- What is the purpose of the `return` statement in a Python function?"
   ]
  },
  {
   "cell_type": "code",
   "execution_count": 20,
   "id": "ecebc14c-912e-4845-ab5d-377b632d6edb",
   "metadata": {},
   "outputs": [
    {
     "name": "stdout",
     "output_type": "stream",
     "text": [
      "8\n",
      "6\n",
      "1 5\n"
     ]
    }
   ],
   "source": [
    "# 1.Returning a Value: The primary purpose of the return statement is to specify the value that should be output from the function when it is called. This value can then be used or stored by the caller of the function. If a function does not include a return statement, it will return None by default.\n",
    "\n",
    "# Example of returning a value:-\n",
    "def add(a, b):\n",
    "    return a + b\n",
    "\n",
    "result = add(3, 5)\n",
    "print(result)  # Output: 8\n",
    "\n",
    "\n",
    "# 2.Exiting the Function: The return statement also serves as an exit point for the function. When a return statement is executed, the function terminates immediately, and control is passed back to the caller. This means that any code after the return statement within the same block will not be executed.\n",
    "\n",
    "#  Example of exiting value:-\n",
    "\n",
    "def find_first_even(numbers):\n",
    "    for num in numbers:\n",
    "        if num % 2 == 0:\n",
    "            return num\n",
    "    return None\n",
    "\n",
    "result = find_first_even([1, 3, 5, 6, 7])\n",
    "print(result)  # Output: 6\n",
    "\n",
    "\n",
    "\n",
    "# 3.Returning Multiple Values: Python allows functions to return multiple values as a tuple. This is useful for returning multiple pieces of information from a function in a single statement.\n",
    "\n",
    "\n",
    "# Example of Returning Multiple Values:-\n",
    "\n",
    "def get_min_max(numbers):\n",
    "    return min(numbers), max(numbers)\n",
    "\n",
    "minimum, maximum = get_min_max([1, 2, 3, 4, 5])\n",
    "print(minimum, maximum)  # Output: 1 5\n",
    "\n",
    "\n",
    "\n",
    "\n",
    "\n"
   ]
  },
  {
   "cell_type": "code",
   "execution_count": 25,
   "id": "1a5db874-9397-435f-8bd5-73aef3f82b02",
   "metadata": {},
   "outputs": [],
   "source": [
    "# Question_5:- What are iterators in Python and how do they differ from iterables?"
   ]
  },
  {
   "cell_type": "code",
   "execution_count": 26,
   "id": "ad688a10-1f92-45cb-a811-ad952b33f398",
   "metadata": {},
   "outputs": [],
   "source": [
    "# 1.Iterables:-\n",
    "           # Iterables are objects that can return an iterator, allowing you to iterate over their elements. An object is considered iterable if it implements the __iter__() method, which returns an iterator. Common examples of iterables include lists, tuples, strings, and dictionaries.\n",
    "\n",
    "           # Key Characteristics of Iterables:\n",
    "\n",
    "            # Can Be Iterated Over: You can use a for loop to iterate over the elements.\n",
    "            # Provide an Iterator: They can produce an iterator object using the iter() function.\n",
    "# 2.Iterators:-\n",
    "           # Iterators are objects that represent a stream of data. An iterator is an object that implements the __iter__() and __next__() methods. The __iter__() method returns the iterator object itself, and the __next__() method returns the next value from the iterator. When there are no more items to return, the __next__() method raises a StopIteration exception.\n",
    "\n",
    "            # Key Characteristics of Iterators:\n",
    "\n",
    "              # Stateful: They maintain a state to keep track of the current position during iteration.\n",
    "               # One-Way Traversal: They provide one-way traversal, meaning once you retrieve an item, you can't go back.\n",
    "              # Can Be Exhausted: Once an iterator has traversed all its elements, it cannot be reset or reused\n"
   ]
  },
  {
   "cell_type": "code",
   "execution_count": 27,
   "id": "9048bdfa-6fa1-4db3-bde5-3b3342bedc65",
   "metadata": {},
   "outputs": [
    {
     "name": "stdout",
     "output_type": "stream",
     "text": [
      "1\n",
      "2\n",
      "3\n",
      "4\n"
     ]
    }
   ],
   "source": [
    "# Iterables example :-\n",
    "my_list = [1, 2, 3, 4]\n",
    "\n",
    "for item in my_list:\n",
    "    print(item)\n",
    "# Output:\n",
    "# 1\n",
    "# 2\n",
    "# 3\n",
    "# 4\n"
   ]
  },
  {
   "cell_type": "code",
   "execution_count": 28,
   "id": "9860e502-693a-4749-ada6-e57108633834",
   "metadata": {},
   "outputs": [
    {
     "name": "stdout",
     "output_type": "stream",
     "text": [
      "1\n",
      "2\n",
      "3\n",
      "4\n"
     ]
    }
   ],
   "source": [
    "# Iterators example:-\n",
    "my_list = [1, 2, 3, 4]\n",
    "my_iterator = iter(my_list)\n",
    "\n",
    "print(next(my_iterator))  # Output: 1\n",
    "print(next(my_iterator))  # Output: 2\n",
    "print(next(my_iterator))  # Output: 3\n",
    "print(next(my_iterator))  # Output: 4\n",
    "# print(next(my_iterator))  # Raises StopIteration\n"
   ]
  },
  {
   "cell_type": "code",
   "execution_count": 29,
   "id": "507421b4-974b-4fe5-84b7-6364eeb4b32f",
   "metadata": {},
   "outputs": [],
   "source": [
    "# Question_6:-  Explain the concept of generators in Python and how they are defined.\n"
   ]
  },
  {
   "cell_type": "code",
   "execution_count": 34,
   "id": "993a90eb-efed-41b8-aeb5-6cc051a52a6b",
   "metadata": {},
   "outputs": [
    {
     "name": "stdout",
     "output_type": "stream",
     "text": [
      "5\n",
      "4\n",
      "3\n",
      "2\n",
      "1\n",
      "0\n",
      "1\n",
      "4\n",
      "9\n",
      "16\n"
     ]
    }
   ],
   "source": [
    "# Defining Generators\n",
    "               # Generators can be defined in two main ways:\n",
    "\n",
    "                  # 1.Generator Functions\n",
    "                  # 2.Generator Expressions\n",
    "# 1.Generater Function:-A generator function is defined like a regular function, but it uses the yield keyword instead of return to produce a value. \n",
    "                        #The yield keyword allows the function to return a value and \"pause\" its execution, maintaining its state until the next value is requested. \n",
    "                        # When yield is encountered, the function's state, including local variables and the point of execution, is saved. The next time the generator's __next__() method \n",
    "                        #is called, the function resumes execution from the point it left off. \n",
    "# example of generater function:-\n",
    "def countdown(n):\n",
    "    while n > 0:\n",
    "        yield n\n",
    "        n -= 1\n",
    "\n",
    "# Using the generator function\n",
    "counter = countdown(5)\n",
    "print(next(counter))  \n",
    "print(next(counter))  \n",
    "print(next(counter))  \n",
    "print(next(counter))\n",
    "print(next(counter))  \n",
    "\n",
    "# 2. Generator Expressions:-Generator expressions are a concise way to create generators using a syntax similar to list \n",
    "                           #comprehensions, but with parentheses instead of square brackets. They provide a quick way to \n",
    "                           # create a generator without the need for defining a full generator function.\n",
    "# example of generater function:-\n",
    "squares = (x * x for x in range(5))\n",
    "\n",
    "print(next(squares))  \n",
    "print(next(squares))  \n",
    "print(next(squares))  \n",
    "print(next(squares))  \n",
    "print(next(squares))  "
   ]
  },
  {
   "cell_type": "code",
   "execution_count": 36,
   "id": "044d5a8d-f8f7-4371-b785-10d17a4b8823",
   "metadata": {},
   "outputs": [],
   "source": [
    "# Question_7:-What are the advantages of using generators over regular functions?"
   ]
  },
  {
   "cell_type": "code",
   "execution_count": 50,
   "id": "7f961952-8222-45f6-bd77-158c016ffb85",
   "metadata": {},
   "outputs": [
    {
     "name": "stdout",
     "output_type": "stream",
     "text": [
      "1\n",
      "0\n",
      "0\n",
      "1\n",
      "1\n",
      "2\n",
      "3\n",
      "5\n",
      "8\n",
      "13\n",
      "21\n",
      "34\n",
      "[1, 4, 9, 16, 25, 36, 49, 64]\n"
     ]
    }
   ],
   "source": [
    "# 1. Memory Efficiency:-\n",
    "                     # Generators are memory-efficient because they produce values on-the-fly and do not require the entire sequence to be stored in memory. \n",
    "                    #  This is especially useful when working with large datasets or infinite sequences, where storing all elements at once would be impractical or impossible.\n",
    "# example of memory of efficiency:\n",
    "\n",
    "def large_range():\n",
    "    for i in range(1, 1000000):\n",
    "        yield i\n",
    "\n",
    "gen = large_range()\n",
    "# The generator only produces one number at a time, using minimal memory.\n",
    "print(next(gen))\n",
    "\n",
    "\n",
    "#  2.Lazy Evaluation:-\n",
    "                  # Generators implement lazy evaluation, meaning they generate values only when requested. \n",
    "                  # This can lead to significant performance improvements because calculations are done only when necessary, \n",
    "                  # and only for the required items. This can also save computational resources if only a part of the data is needed.\n",
    "# example of lazy evalution:-\n",
    "def square_numbers(n):\n",
    "    for i in range(n):\n",
    "        yield i * i\n",
    "\n",
    "gen = square_numbers(10)\n",
    "print(next(gen))  # Only calculates the first square\n",
    "\n",
    "\n",
    "# 3.Improved Performance:-\n",
    "                 # By not requiring the computation of all items at once, generators can improve performance, \n",
    "                 # especially when the data set is large or the computation of each item is costly.\n",
    "# Example of Improved Performance:-\n",
    "def fibonacci():\n",
    "    a, b = 0, 1\n",
    "    while True:\n",
    "        yield a\n",
    "        a, b = b, a + b\n",
    "\n",
    "fib = fibonacci()\n",
    "# The next Fibonacci number is only calculated when requested.\n",
    "for i in range(10):\n",
    "    print(next(fib))\n",
    "    \n",
    "# 4.Pipeline Processing::-\n",
    "                    # Generators can be used to set up a series of operations that are performed on-the-fly, \n",
    "                    # allowing for pipeline-style data processing. This means data can be passed through multiple steps (generators) without being fully realized until needed.\n",
    "\n",
    "# example of pipeline processing:-\n",
    "def integers():\n",
    "    for i in range(1, 9):\n",
    "        yield i\n",
    "\n",
    "def squared(seq):\n",
    "    for i in seq:\n",
    "        yield i * i\n",
    "\n",
    "numbers = integers()\n",
    "squares = squared(numbers)\n",
    "\n",
    "print(list(squares))  # [1, 4, 9, 16, 25, 36, 49, 64]\n"
   ]
  },
  {
   "cell_type": "code",
   "execution_count": 51,
   "id": "300d6dd3-270f-40ea-94c8-46017ea0b5b2",
   "metadata": {},
   "outputs": [],
   "source": [
    "# Question_8:- What is a lambda function in Python and when is it typically used?"
   ]
  },
  {
   "cell_type": "code",
   "execution_count": 3,
   "id": "b872417a-fdd2-482a-b737-0e2bbd5a05d1",
   "metadata": {},
   "outputs": [
    {
     "name": "stdout",
     "output_type": "stream",
     "text": [
      "8\n",
      "[1, 4, 9, 16]\n",
      "[2, 4]\n",
      "[(3, 1), (1, 2), (5, 3)]\n"
     ]
    }
   ],
   "source": [
    "# A lambda function in Python is a small, anonymous function defined using the lambda keyword. Unlike regular functions defined with def, \n",
    "# lambda functions are limited to a single expression. They are useful for creating small, throwaway functions that are used temporarily, typically as arguments to other functions.\n",
    "\n",
    "# Syntax of a Lambda Function\n",
    "\n",
    "# lambda arguments: expression\n",
    "# lambda: The keyword used to declare a lambda function.\n",
    "# arguments: The parameters for the lambda function (can be zero or more).\n",
    "# expression: A single expression that is evaluated and returned.\n",
    "\n",
    "# exemple:-\n",
    "# Regular function\n",
    "def add(x, y):\n",
    "    return x + y\n",
    "\n",
    "# Equivalent lambda function\n",
    "add_lambda = lambda x, y: x + y\n",
    "\n",
    "print(add_lambda(3, 5))  # Output: 8\n",
    "\n",
    "# When Lambda Functions Are Typically Used:-\n",
    "\n",
    "# 1.As Arguments to Higher-Order Functions:\n",
    "            # Lambda functions are commonly used as arguments to functions that take other functions as input, such as map(), filter(), and sorted().\n",
    "\n",
    "# using map function:-\n",
    "\n",
    "numbers = [1, 2, 3, 4]\n",
    "squares = map(lambda x: x * x, numbers)\n",
    "print(list(squares))  # Output: [1, 4, 9, 16]\n",
    "\n",
    "\n",
    "# using filter() function:- \n",
    "numbers = [1, 2, 3, 4, 5]\n",
    "even_numbers = filter(lambda x: x % 2 == 0, numbers)\n",
    "print(list(even_numbers))  # Output: [2, 4]\n",
    "\n",
    "# using sorted function():-\n",
    "points = [(1, 2), (3, 1), (5, 3)]\n",
    "sorted_points = sorted(points, key=lambda point: point[1])\n",
    "print(sorted_points)  # Output: [(3, 1), (1, 2), (5, 3)]\n",
    "\n",
    "\n"
   ]
  },
  {
   "cell_type": "code",
   "execution_count": 4,
   "id": "dbf279cc-a559-4423-825e-bc17d2d0a300",
   "metadata": {},
   "outputs": [],
   "source": [
    "# Question_9:- Explain the purpose and usage of the `map()` function in Python."
   ]
  },
  {
   "cell_type": "code",
   "execution_count": 8,
   "id": "4d43d3c1-395e-4124-b0b0-84a3523fe8f8",
   "metadata": {},
   "outputs": [
    {
     "name": "stdout",
     "output_type": "stream",
     "text": [
      "[1, 4, 9, 16, 25]\n",
      "[1, 4, 9, 16, 25]\n",
      "[5, 7, 9]\n"
     ]
    }
   ],
   "source": [
    "# The map() function in Python is a built-in function used to apply a given function to each item of an iterable (like a list, tuple, or set) and return an iterator that produces the results. \n",
    "  #It is often used for transforming or processing data in a concise and functional way.\n",
    "\n",
    "#Syntax: map(function, iterable, ...)\n",
    "         # function: A function that will be applied to each item of the iterable. This function can be a named function, a lambda function, or any callable object.\n",
    "        # iterable: An iterable (e.g., a list, tuple, or set) whose items will be processed by the function.\n",
    "        # Additional iterables (optional): map() can accept more than one iterable. In this case, the \n",
    "        # function must take as many arguments as there are iterables.\n",
    "#Return Value:-\n",
    "          # map() returns a map object, which is an iterator. To get the results as a list or another collection type, you need to convert it explicitly.\n",
    "    \n",
    "#Example;-\n",
    "\n",
    "# Define a function that will be applied\n",
    "def square(x):\n",
    "    return x * x\n",
    "\n",
    "# List of numbers\n",
    "numbers = [1, 2, 3, 4, 5]\n",
    "\n",
    "# Use map() to apply the square function to each number\n",
    "squared_numbers = map(square, numbers)\n",
    "\n",
    "# Convert the map object to a list and print it\n",
    "print(list(squared_numbers))  # Output: [1, 4, 9, 16, 25]\n",
    "\n",
    "# example :-using lambda function\n",
    "numbers = [1, 2, 3, 4, 5]\n",
    "\n",
    "# Use map() with a lambda function to square each number\n",
    "squared_numbers = map(lambda x: x * x, numbers)\n",
    "\n",
    "print(list(squared_numbers))  # Output: [1, 4, 9, 16, 25]\n",
    "\n",
    "\n",
    "# example map using multile etirable:-\n",
    "# Define a function that takes two arguments\n",
    "def add(x, y):\n",
    "    return x + y\n",
    "\n",
    "# Two lists of numbers\n",
    "list1 = [1, 2, 3]\n",
    "list2 = [4, 5, 6]\n",
    "\n",
    "# Use map() with two iterables\n",
    "result = map(add, list1, list2)\n",
    "\n",
    "print(list(result))  # Output: [5, 7, 9]\n"
   ]
  },
  {
   "cell_type": "code",
   "execution_count": 9,
   "id": "0c7d25ac-56a7-4d72-b0ef-7959f50727a5",
   "metadata": {},
   "outputs": [],
   "source": [
    "# Question_10:- What is the difference between `map()`, `reduce()`, and `filter()` functions in Python?"
   ]
  },
  {
   "cell_type": "code",
   "execution_count": 11,
   "id": "72d44096-3f59-4060-b6bd-0bd06585fe04",
   "metadata": {},
   "outputs": [
    {
     "name": "stdout",
     "output_type": "stream",
     "text": [
      "[1, 4, 9, 16]\n",
      "24\n",
      "[2, 4]\n"
     ]
    }
   ],
   "source": [
    "# 1.map():-\n",
    "          # Purpose: Applies a function to each item in an iterable (like a list or tuple) and returns an iterator that produces the results.\n",
    "\n",
    "          # Syntax: map(function, iterable, ...)\n",
    "\n",
    "          # function: The function to apply to each item.\n",
    "          # iterable: The iterable whose items will be processed.\n",
    "          # Returns: An iterator that yields the results of applying the function to each item.\n",
    "# Example:-\n",
    "numbers = [1, 2, 3, 4]\n",
    "squared_numbers = map(lambda x: x * x, numbers)\n",
    "print(list(squared_numbers))  # Output: [1, 4, 9, 16]\n",
    "\n",
    "\n",
    "# 2.reduce() :-\n",
    "          # Purpose: Applies a function cumulatively to the items of an iterable, reducing the iterable to a single value.\n",
    "\n",
    "           # Syntax: reduce(function, iterable[, initializer])\n",
    "\n",
    "           # function: A function that takes two arguments and returns a single value.\n",
    "           # iterable: The iterable whose items are processed.\n",
    "           # initializer (optional): A starting value that is used as the initial value for the reduction.\n",
    "            # Returns: The result of the cumulative function application.\n",
    "# Exanple:-\n",
    "from functools import reduce\n",
    "\n",
    "numbers = [1, 2, 3, 4]\n",
    "product = reduce(lambda x, y: x * y, numbers)\n",
    "print(product)  # Output: 24\n",
    "\n",
    "# 3.filter():-\n",
    "         # Purpose: Filters items from an iterable based on a function that returns True or False.\n",
    "\n",
    "         # Syntax: filter(function, iterable)\n",
    "\n",
    "          # function: A function that returns True or False for each item in the iterable.\n",
    "         # iterable: The iterable to be filtered.\n",
    "# Example:-\n",
    "numbers = [1, 2, 3, 4, 5]\n",
    "even_numbers = filter(lambda x: x % 2 == 0, numbers)\n",
    "print(list(even_numbers))  # Output: [2, 4]\n",
    "\n"
   ]
  },
  {
   "cell_type": "code",
   "execution_count": 13,
   "id": "1ef7a01f-61e9-4901-ab57-bceef9ec2b7e",
   "metadata": {},
   "outputs": [],
   "source": [
    "# Practical Questions:-"
   ]
  },
  {
   "cell_type": "code",
   "execution_count": 14,
   "id": "30f41b26-d9a5-4c38-ae61-5f3f3e4af6fd",
   "metadata": {},
   "outputs": [],
   "source": [
    "# Question_1:- Write a Python function that takes a list of numbers as input and returns the sum of all even numbers in the list.\n",
    "\n"
   ]
  },
  {
   "cell_type": "code",
   "execution_count": 16,
   "id": "334c4bbb-af22-4e7c-984b-9a64cce97125",
   "metadata": {},
   "outputs": [
    {
     "name": "stdout",
     "output_type": "stream",
     "text": [
      "42\n"
     ]
    }
   ],
   "source": [
    "def sum_of_even_numbers(numbers):\n",
    "    sum=0\n",
    "    for i in numbers:\n",
    "        if i%2==0:\n",
    "            sum=sum+i\n",
    "    return sum\n",
    "# Example usage\n",
    "numbers = [47, 11, 42, 13]\n",
    "print(sum_of_even_numbers(numbers))  # Output: 42\n"
   ]
  },
  {
   "cell_type": "code",
   "execution_count": 17,
   "id": "82561df3-73d7-4069-b8a6-ddc6abdf4e5b",
   "metadata": {},
   "outputs": [],
   "source": [
    "# Question_2:- Create a Python function that accepts a string and returns the reverse of that string."
   ]
  },
  {
   "cell_type": "code",
   "execution_count": 21,
   "id": "d6df1e90-d8cc-41a8-91c2-dba8fc22f721",
   "metadata": {},
   "outputs": [
    {
     "name": "stdout",
     "output_type": "stream",
     "text": [
      "lihliN\n"
     ]
    }
   ],
   "source": [
    "def reverse_string(string):\n",
    "    return string[::-1]\n",
    "print(reverse_string(\"Nilhil\"))"
   ]
  },
  {
   "cell_type": "code",
   "execution_count": 30,
   "id": "e3194206-4555-4a09-84e8-00c40da13ce1",
   "metadata": {},
   "outputs": [],
   "source": [
    "# Question_3:- Implement a Python function that takes a list of integers and returns a new list containing the squares of each number."
   ]
  },
  {
   "cell_type": "code",
   "execution_count": 31,
   "id": "a1c4b36e-6870-4d2d-814b-b7c30539354a",
   "metadata": {},
   "outputs": [
    {
     "name": "stdout",
     "output_type": "stream",
     "text": [
      "[1, 4, 9, 16, 25]\n"
     ]
    }
   ],
   "source": [
    "def square_of_list(list1):\n",
    "    new_list = []\n",
    "    for i in list1:\n",
    "        new_list.append(i * i)\n",
    "    return new_list\n",
    "\n",
    "# Define the list before calling the function\n",
    "list1 = [1, 2, 3, 4, 5]\n",
    "\n",
    "print(square_of_list(list1))\n"
   ]
  },
  {
   "cell_type": "code",
   "execution_count": 32,
   "id": "3b5a25b8-fc36-4d0a-be4f-39896a6e0fc6",
   "metadata": {},
   "outputs": [],
   "source": [
    "# Question_4:- Write a Python function that checks if a given number is prime or not from 1 to 200."
   ]
  },
  {
   "cell_type": "code",
   "execution_count": 37,
   "id": "0a540b73-a037-4d1e-a206-fca0adfbdcf7",
   "metadata": {},
   "outputs": [
    {
     "name": "stdout",
     "output_type": "stream",
     "text": [
      "[2, 3, 5, 7, 11, 13, 17, 19, 23, 29, 31, 37, 41, 43, 47, 53, 59, 61, 67, 71, 73, 79, 83, 89, 97, 101, 103, 107, 109, 113, 127, 131, 137, 139, 149, 151, 157, 163, 167, 173, 179, 181, 191, 193, 197, 199]\n"
     ]
    }
   ],
   "source": [
    "def prime_number():\n",
    "    list1 = []\n",
    "    \n",
    "    for i in range(2, 200):  # Start from 2, the smallest prime number\n",
    "        is_prime = True\n",
    "        for j in range(2, int(i**0.5) + 1):  # Check for factors up to sqrt(i)\n",
    "            if i % j == 0:\n",
    "                is_prime = False\n",
    "                break\n",
    "        if is_prime:\n",
    "            list1.append(i)\n",
    "    \n",
    "    return list1\n",
    "\n",
    "# Call the function and print the result\n",
    "print(prime_number())\n"
   ]
  },
  {
   "cell_type": "code",
   "execution_count": 38,
   "id": "c81ea316-36a7-409b-8a26-362839eeb3a4",
   "metadata": {},
   "outputs": [],
   "source": [
    "# Question_5:-Create an iterator class in Python that generates the Fibonacci sequence up to a specified number of terms.\n",
    "\n"
   ]
  },
  {
   "cell_type": "code",
   "execution_count": 39,
   "id": "c527d801-c79e-4abf-b54d-db5c614f0eeb",
   "metadata": {},
   "outputs": [
    {
     "name": "stdout",
     "output_type": "stream",
     "text": [
      "0\n",
      "1\n",
      "1\n",
      "2\n",
      "3\n",
      "5\n",
      "8\n",
      "13\n",
      "21\n",
      "34\n"
     ]
    }
   ],
   "source": [
    "class FibonacciIterator:\n",
    "    def __init__(self, n):\n",
    "        self.n = n            # Number of terms to generate\n",
    "        self.a, self.b = 0, 1  # Initial values for Fibonacci sequence\n",
    "        self.count = 0        # Counter to keep track of the number of terms generated\n",
    "\n",
    "    def __iter__(self):\n",
    "        return self  # The iterator object itself\n",
    "\n",
    "    def __next__(self):\n",
    "        if self.count >= self.n:\n",
    "            raise StopIteration  # Stop iteration when we reach the specified number of terms\n",
    "        else:\n",
    "            # Return the current term\n",
    "            result = self.a\n",
    "            # Update the values for the next term\n",
    "            self.a, self.b = self.b, self.a + self.b\n",
    "            self.count += 1\n",
    "            return result\n",
    "\n",
    "# Example usage\n",
    "fib_iter = FibonacciIterator(10)  # Create an iterator for the first 10 terms\n",
    "\n",
    "for term in fib_iter:\n",
    "    print(term)\n"
   ]
  },
  {
   "cell_type": "code",
   "execution_count": 40,
   "id": "f1989a27-3d60-4510-9927-993339f4893b",
   "metadata": {},
   "outputs": [],
   "source": [
    "# Question_6:- Write a generator function in Python that yields the powers of 2 up to a given exponent."
   ]
  },
  {
   "cell_type": "code",
   "execution_count": 41,
   "id": "6e4319e0-0e71-4faa-8a11-88c559ba0f04",
   "metadata": {},
   "outputs": [
    {
     "name": "stdout",
     "output_type": "stream",
     "text": [
      "1\n",
      "2\n",
      "4\n",
      "8\n",
      "16\n",
      "32\n"
     ]
    }
   ],
   "source": [
    "def powers_of_two(exponent):\n",
    "    for i in range(exponent + 1):\n",
    "        yield 2 ** i\n",
    "\n",
    "# Example usage\n",
    "for power in powers_of_two(5):\n",
    "    print(power)\n"
   ]
  },
  {
   "cell_type": "code",
   "execution_count": 46,
   "id": "3550f741-d351-444b-aa26-012f903d3609",
   "metadata": {},
   "outputs": [],
   "source": [
    "# Question_7:- Implement a generator function that reads a file line by line and yields each line as a string."
   ]
  },
  {
   "cell_type": "code",
   "execution_count": 1,
   "id": "0eaf2efc-0f68-45a3-b2c1-5d08c24cc97b",
   "metadata": {},
   "outputs": [
    {
     "ename": "FileNotFoundError",
     "evalue": "[Errno 2] No such file or directory: 'example.txt'",
     "output_type": "error",
     "traceback": [
      "\u001b[0;31m---------------------------------------------------------------------------\u001b[0m",
      "\u001b[0;31mFileNotFoundError\u001b[0m                         Traceback (most recent call last)",
      "Cell \u001b[0;32mIn[1], line 9\u001b[0m\n\u001b[1;32m      7\u001b[0m \u001b[38;5;66;03m# Example usage\u001b[39;00m\n\u001b[1;32m      8\u001b[0m filename \u001b[38;5;241m=\u001b[39m \u001b[38;5;124m'\u001b[39m\u001b[38;5;124mexample.txt\u001b[39m\u001b[38;5;124m'\u001b[39m  \u001b[38;5;66;03m# Replace with the path to your file\u001b[39;00m\n\u001b[0;32m----> 9\u001b[0m \u001b[38;5;28;01mfor\u001b[39;00m line \u001b[38;5;129;01min\u001b[39;00m read_lines(filename):\n\u001b[1;32m     10\u001b[0m     \u001b[38;5;28mprint\u001b[39m(line, end\u001b[38;5;241m=\u001b[39m\u001b[38;5;124m'\u001b[39m\u001b[38;5;124m'\u001b[39m)  \u001b[38;5;66;03m# Print each line without adding extra newline\u001b[39;00m\n",
      "Cell \u001b[0;32mIn[1], line 3\u001b[0m, in \u001b[0;36mread_lines\u001b[0;34m(filename)\u001b[0m\n\u001b[1;32m      1\u001b[0m \u001b[38;5;28;01mdef\u001b[39;00m \u001b[38;5;21mread_lines\u001b[39m(filename):\n\u001b[1;32m      2\u001b[0m     \u001b[38;5;124;03m\"\"\"Generator function that yields each line from the file specified by filename.\"\"\"\u001b[39;00m\n\u001b[0;32m----> 3\u001b[0m     \u001b[38;5;28;01mwith\u001b[39;00m \u001b[38;5;28;43mopen\u001b[39;49m\u001b[43m(\u001b[49m\u001b[43mfilename\u001b[49m\u001b[43m,\u001b[49m\u001b[43m \u001b[49m\u001b[38;5;124;43m'\u001b[39;49m\u001b[38;5;124;43mr\u001b[39;49m\u001b[38;5;124;43m'\u001b[39;49m\u001b[43m)\u001b[49m \u001b[38;5;28;01mas\u001b[39;00m file:\n\u001b[1;32m      4\u001b[0m         \u001b[38;5;28;01mfor\u001b[39;00m line \u001b[38;5;129;01min\u001b[39;00m file:\n\u001b[1;32m      5\u001b[0m             \u001b[38;5;28;01myield\u001b[39;00m line\n",
      "File \u001b[0;32m/opt/conda/lib/python3.10/site-packages/IPython/core/interactiveshell.py:282\u001b[0m, in \u001b[0;36m_modified_open\u001b[0;34m(file, *args, **kwargs)\u001b[0m\n\u001b[1;32m    275\u001b[0m \u001b[38;5;28;01mif\u001b[39;00m file \u001b[38;5;129;01min\u001b[39;00m {\u001b[38;5;241m0\u001b[39m, \u001b[38;5;241m1\u001b[39m, \u001b[38;5;241m2\u001b[39m}:\n\u001b[1;32m    276\u001b[0m     \u001b[38;5;28;01mraise\u001b[39;00m \u001b[38;5;167;01mValueError\u001b[39;00m(\n\u001b[1;32m    277\u001b[0m         \u001b[38;5;124mf\u001b[39m\u001b[38;5;124m\"\u001b[39m\u001b[38;5;124mIPython won\u001b[39m\u001b[38;5;124m'\u001b[39m\u001b[38;5;124mt let you open fd=\u001b[39m\u001b[38;5;132;01m{\u001b[39;00mfile\u001b[38;5;132;01m}\u001b[39;00m\u001b[38;5;124m by default \u001b[39m\u001b[38;5;124m\"\u001b[39m\n\u001b[1;32m    278\u001b[0m         \u001b[38;5;124m\"\u001b[39m\u001b[38;5;124mas it is likely to crash IPython. If you know what you are doing, \u001b[39m\u001b[38;5;124m\"\u001b[39m\n\u001b[1;32m    279\u001b[0m         \u001b[38;5;124m\"\u001b[39m\u001b[38;5;124myou can use builtins\u001b[39m\u001b[38;5;124m'\u001b[39m\u001b[38;5;124m open.\u001b[39m\u001b[38;5;124m\"\u001b[39m\n\u001b[1;32m    280\u001b[0m     )\n\u001b[0;32m--> 282\u001b[0m \u001b[38;5;28;01mreturn\u001b[39;00m \u001b[43mio_open\u001b[49m\u001b[43m(\u001b[49m\u001b[43mfile\u001b[49m\u001b[43m,\u001b[49m\u001b[43m \u001b[49m\u001b[38;5;241;43m*\u001b[39;49m\u001b[43margs\u001b[49m\u001b[43m,\u001b[49m\u001b[43m \u001b[49m\u001b[38;5;241;43m*\u001b[39;49m\u001b[38;5;241;43m*\u001b[39;49m\u001b[43mkwargs\u001b[49m\u001b[43m)\u001b[49m\n",
      "\u001b[0;31mFileNotFoundError\u001b[0m: [Errno 2] No such file or directory: 'example.txt'"
     ]
    }
   ],
   "source": [
    "def read_lines(filename):\n",
    "    \"\"\"Generator function that yields each line from the file specified by filename.\"\"\"\n",
    "    with open(filename, 'r') as file:\n",
    "        for line in file:\n",
    "            yield line  # Yield each line directly\n",
    "\n",
    "# Example usage\n",
    "filename = 'example.txt'  # Replace with the path to your file\n",
    "for line in read_lines(filename):\n",
    "    print(line, end='')  # Print each line without adding extra newline\n"
   ]
  },
  {
   "cell_type": "code",
   "execution_count": 47,
   "id": "18a55073-6a80-47e9-86d8-8965fcb8266a",
   "metadata": {},
   "outputs": [],
   "source": [
    "# Question_8:- Use a lambda function in Python to sort a list of tuples based on the second element of each tuple."
   ]
  },
  {
   "cell_type": "code",
   "execution_count": 48,
   "id": "d36cca10-ae76-4e65-8975-962a14af164f",
   "metadata": {},
   "outputs": [
    {
     "name": "stdout",
     "output_type": "stream",
     "text": [
      "[(2, 'apple'), (1, 'banana'), (3, 'cherry')]\n"
     ]
    }
   ],
   "source": [
    "# List of tuples\n",
    "tuples_list = [(1, 'banana'), (2, 'apple'), (3, 'cherry')]\n",
    "\n",
    "# Sorting using sorted() with a lambda function\n",
    "sorted_list = sorted(tuples_list, key=lambda x: x[1])\n",
    "\n",
    "print(sorted_list)\n"
   ]
  },
  {
   "cell_type": "code",
   "execution_count": 49,
   "id": "6f9f80cd-a970-4b41-a293-e5a3b4a8b36e",
   "metadata": {},
   "outputs": [],
   "source": [
    "# Question:-9:-Write a Python program that uses `map()` to convert a list of temperatures from Celsius to Fahrenheit."
   ]
  },
  {
   "cell_type": "code",
   "execution_count": 50,
   "id": "b8602bbf-0d58-45dc-bb51-c9aada4c6991",
   "metadata": {},
   "outputs": [
    {
     "name": "stdout",
     "output_type": "stream",
     "text": [
      "Celsius temperatures: [0, 10, 20, 30, 40, 100]\n",
      "Fahrenheit temperatures: [32.0, 50.0, 68.0, 86.0, 104.0, 212.0]\n"
     ]
    }
   ],
   "source": [
    "# List of temperatures in Celsius\n",
    "celsius_temperatures = [0, 10, 20, 30, 40, 100]\n",
    "\n",
    "# Convert Celsius to Fahrenheit using map() and a lambda function\n",
    "fahrenheit_temperatures = list(map(lambda c: c * 9/5 + 32, celsius_temperatures))\n",
    "\n",
    "# Print the converted temperatures\n",
    "print(\"Celsius temperatures:\", celsius_temperatures)\n",
    "print(\"Fahrenheit temperatures:\", fahrenheit_temperatures)\n"
   ]
  },
  {
   "cell_type": "code",
   "execution_count": 51,
   "id": "c27692ba-f50d-4f3a-b1bd-1ca04e89fc41",
   "metadata": {},
   "outputs": [],
   "source": [
    "# Question_10:- Create a Python program that uses `filter()` to remove all the vowels from a given string."
   ]
  },
  {
   "cell_type": "code",
   "execution_count": 52,
   "id": "dd17da44-cc88-4728-bf2f-41f209d2e6c5",
   "metadata": {},
   "outputs": [
    {
     "name": "stdout",
     "output_type": "stream",
     "text": [
      "Original string: Hello, World! This is a test string.\n",
      "String without vowels: Hll, Wrld! Ths s  tst strng.\n"
     ]
    }
   ],
   "source": [
    "def remove_vowels(input_string):\n",
    "    vowels = 'aeiouAEIOU'\n",
    "    return ''.join(filter(lambda char: char not in vowels, input_string))\n",
    "\n",
    "# Example usage\n",
    "input_string = \"Hello, World! This is a test string.\"\n",
    "result_string = remove_vowels(input_string)\n",
    "print(\"Original string:\", input_string)\n",
    "print(\"String without vowels:\", result_string)\n"
   ]
  },
  {
   "cell_type": "code",
   "execution_count": 55,
   "id": "ec22cc11-24f8-44f6-9cb6-1f80c9047ced",
   "metadata": {},
   "outputs": [],
   "source": [
    "# Question:-11:- Imagine an accounting routine used in a book shop. It works on a list with sublists, which look like this:\n",
    "#Write a Python program, which returns a list with 2-tuples. Each tuple consists of the order number and the\n",
    "#product of the price per item and the quantity. The product should be increased by 10,- € if the value of the order is smaller than 100,00 €.\n",
    "#Write a Python program using lambda and map."
   ]
  },
  {
   "cell_type": "code",
   "execution_count": 54,
   "id": "4ac13584-9378-485a-bdbd-cf7650982302",
   "metadata": {},
   "outputs": [
    {
     "name": "stdout",
     "output_type": "stream",
     "text": [
      "[(34587, 55.0), (98762, 179.0), (77226, 75.0), (88112, 55.0)]\n"
     ]
    }
   ],
   "source": [
    "# List of orders, each order is a sublist in the format [order_number, price_per_item, quantity]\n",
    "orders = [\n",
    "    [34587, 4.50, 10],   # Example: Order number 34587, price 4.50 per item, quantity 10\n",
    "    [98762, 8.95, 20],   # Example: Order number 98762, price 8.95 per item, quantity 20\n",
    "    [77226, 13.00, 5],   # Example: Order number 77226, price 13.00 per item, quantity 5\n",
    "    [88112, 1.50, 30]    # Example: Order number 88112, price 1.50 per item, quantity 30\n",
    "]\n",
    "\n",
    "# Lambda function to compute the total cost of an order\n",
    "compute_cost = lambda order: (order[0], order[1] * order[2] if order[1] * order[2] >= 100 else order[1] * order[2] + 10)\n",
    "\n",
    "# Using map() to apply the lambda function to each order\n",
    "order_totals = list(map(compute_cost, orders))\n",
    "\n",
    "# Output the result\n",
    "print(order_totals)\n"
   ]
  },
  {
   "cell_type": "code",
   "execution_count": null,
   "id": "5a52f50a-f8f4-457f-839b-467ccc41fd83",
   "metadata": {},
   "outputs": [],
   "source": []
  }
 ],
 "metadata": {
  "kernelspec": {
   "display_name": "Python 3 (ipykernel)",
   "language": "python",
   "name": "python3"
  },
  "language_info": {
   "codemirror_mode": {
    "name": "ipython",
    "version": 3
   },
   "file_extension": ".py",
   "mimetype": "text/x-python",
   "name": "python",
   "nbconvert_exporter": "python",
   "pygments_lexer": "ipython3",
   "version": "3.10.8"
  }
 },
 "nbformat": 4,
 "nbformat_minor": 5
}
